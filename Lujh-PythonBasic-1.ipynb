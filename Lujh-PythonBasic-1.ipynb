{
 "cells": [
  {
   "cell_type": "markdown",
   "metadata": {},
   "source": [
    "# ICC-S1-Python基础【卢婧华】\n",
    "\n",
    "# 1-变量variable和数据类型data type\n",
    "- 编程语言最大的特性之一是操纵变量的能力。\n",
    "- 变量是指向一个值的名称。\n",
    "- 赋值语句Assignment statement可以建立新的变量，并给它们赋值。\n"
   ]
  },
  {
   "cell_type": "markdown",
   "metadata": {},
   "source": [
    "## 1-1 变量名称name与赋值语句\n",
    "\n",
    "- 赋值符号\"=\"\n",
    "- 赋值语句将 \"=\" 左边的名称与 \"=\" 右边的表达式关联起来（将值保存在变量中）\n",
    "- 通常选择有意义的名称作为变量名，标记变量的用途。\n",
    "- 变量名可以任意长短。\n",
    "- 大小写敏感，Ada、ada、aDa是不同的变量名。"
   ]
  },
  {
   "cell_type": "code",
   "execution_count": 1,
   "metadata": {},
   "outputs": [],
   "source": [
    "%load_ext nbtutor"
   ]
  },
  {
   "cell_type": "code",
   "execution_count": 2,
   "metadata": {},
   "outputs": [
    {
     "name": "nbtutor",
     "output_type": "stream",
     "text": []
    }
   ],
   "source": [
    "%%nbtutor -r -f\n",
    "message = \"pip 不是一个内部或外部命令.\"\n",
    "n = 17\n",
    "pi = 3.14\n",
    "n = 29 #如果变量被赋予一个新值，老值就被遗忘了"
   ]
  },
  {
   "cell_type": "code",
   "execution_count": null,
   "metadata": {},
   "outputs": [],
   "source": [
    "42 = n"
   ]
  },
  {
   "cell_type": "code",
   "execution_count": null,
   "metadata": {},
   "outputs": [],
   "source": [
    "%%nbtutor -r -f\n",
    "a = 1\n",
    "b = a"
   ]
  },
  {
   "cell_type": "markdown",
   "metadata": {},
   "source": [
    "## 有效变量名规则\n",
    " \n",
    "- 可以包含字母、数字和_，但不能以数字开头。\n",
    "\n",
    "- 保留字（关键字）有专门的意义，不能用作变量名。"
   ]
  },
  {
   "cell_type": "code",
   "execution_count": null,
   "metadata": {},
   "outputs": [],
   "source": [
    "4fun = \"happy\""
   ]
  },
  {
   "cell_type": "code",
   "execution_count": 3,
   "metadata": {},
   "outputs": [
    {
     "ename": "SyntaxError",
     "evalue": "invalid syntax (<ipython-input-3-7d90bff2bb1a>, line 1)",
     "output_type": "error",
     "traceback": [
      "\u001b[1;36m  File \u001b[1;32m\"<ipython-input-3-7d90bff2bb1a>\"\u001b[1;36m, line \u001b[1;32m1\u001b[0m\n\u001b[1;33m    New School = \"RDFZ\"\u001b[0m\n\u001b[1;37m             ^\u001b[0m\n\u001b[1;31mSyntaxError\u001b[0m\u001b[1;31m:\u001b[0m invalid syntax\n"
     ]
    }
   ],
   "source": [
    "New School = \"RDFZ\""
   ]
  },
  {
   "cell_type": "code",
   "execution_count": null,
   "metadata": {},
   "outputs": [],
   "source": [
    "n! = 10"
   ]
  },
  {
   "cell_type": "code",
   "execution_count": 1,
   "metadata": {},
   "outputs": [
    {
     "ename": "SyntaxError",
     "evalue": "invalid syntax (<ipython-input-1-57a5eca5f0d8>, line 1)",
     "output_type": "error",
     "traceback": [
      "\u001b[1;36m  File \u001b[1;32m\"<ipython-input-1-57a5eca5f0d8>\"\u001b[1;36m, line \u001b[1;32m1\u001b[0m\n\u001b[1;33m    class = \"S1C7\"\u001b[0m\n\u001b[1;37m          ^\u001b[0m\n\u001b[1;31mSyntaxError\u001b[0m\u001b[1;31m:\u001b[0m invalid syntax\n"
     ]
    }
   ],
   "source": [
    "class = \"S1C7\""
   ]
  },
  {
   "cell_type": "code",
   "execution_count": null,
   "metadata": {},
   "outputs": [],
   "source": [
    "#解释器通过关键字来识别程序的结构，它们不能被用来作为变量名称。\n",
    "import keyword\n",
    "print(keyword.kwlist)"
   ]
  },
  {
   "cell_type": "markdown",
   "metadata": {},
   "source": [
    "- goodName\n",
    "- GoodName\n",
    "- good_name"
   ]
  },
  {
   "cell_type": "markdown",
   "metadata": {},
   "source": [
    "## 1-2 数据类型\n",
    "- int:表示整数\n",
    "- float：表示实数，总是包括一个小数点，在计算机内部以浮点数的形式保存，但使用浮点数计算与使用实数计算会有误差\n",
    "- str：表示字符串,可以用单引号或双引号表示"
   ]
  },
  {
   "cell_type": "code",
   "execution_count": 3,
   "metadata": {},
   "outputs": [
    {
     "name": "stdout",
     "output_type": "stream",
     "text": [
      "<class 'int'> <class 'float'> <class 'float'> <class 'str'>\n"
     ]
    }
   ],
   "source": [
    "a = 1 #\n",
    "b = 1.0\n",
    "c = 0.\n",
    "d = '1'\n",
    "print(type(a),type(b),type(c),type(d))"
   ]
  },
  {
   "cell_type": "code",
   "execution_count": null,
   "metadata": {},
   "outputs": [],
   "source": [
    "# 字符串到底用‘ ’还是“ ”？\n",
    "print('老师说：\"明天放假\"')"
   ]
  },
  {
   "cell_type": "code",
   "execution_count": null,
   "metadata": {},
   "outputs": [],
   "source": [
    "e = a+b\n",
    "print(e,type(e))"
   ]
  },
  {
   "cell_type": "markdown",
   "metadata": {},
   "source": [
    "## 1-3 数据类型的转换\n",
    "强制类型转换\n",
    "- int() \n",
    "- float()\n",
    "- str()\n",
    "- eval()"
   ]
  },
  {
   "cell_type": "code",
   "execution_count": null,
   "metadata": {},
   "outputs": [],
   "source": [
    "a = 3.6\n",
    "b = int(a)\n",
    "c = round(3.645473) \n",
    "#round(x,n) 对x进行四舍五入，保留n位小数，省略n时返回整数\n",
    "print(a,b,c)\n",
    "print(type(a),type(b))"
   ]
  },
  {
   "cell_type": "code",
   "execution_count": null,
   "metadata": {},
   "outputs": [],
   "source": [
    "a = 3\n",
    "b = float(a)\n",
    "print(a,b)"
   ]
  },
  {
   "cell_type": "code",
   "execution_count": null,
   "metadata": {},
   "outputs": [],
   "source": [
    "a = '3'\n",
    "b = int(a)\n",
    "print(a,b)\n",
    "print(type(a),type(b))"
   ]
  },
  {
   "cell_type": "code",
   "execution_count": null,
   "metadata": {},
   "outputs": [],
   "source": [
    "a =\"3.5\"\n",
    "b = float(a)\n",
    "print(a,b)\n",
    "print(type(a),type(b))"
   ]
  },
  {
   "cell_type": "code",
   "execution_count": null,
   "metadata": {},
   "outputs": [],
   "source": [
    "a =\"3.5\"\n",
    "b = int(a)\n",
    "print(a,b)\n",
    "print(type(a),type(b))"
   ]
  },
  {
   "cell_type": "code",
   "execution_count": 2,
   "metadata": {},
   "outputs": [
    {
     "name": "stdout",
     "output_type": "stream",
     "text": [
      "3 3\n",
      "<class 'str'> <class 'int'>\n"
     ]
    }
   ],
   "source": [
    "a =\"3.5\" \n",
    "b = eval(a)\n",
    "print(a,b)\n",
    "print(type(a),type(b))"
   ]
  },
  {
   "cell_type": "code",
   "execution_count": 7,
   "metadata": {},
   "outputs": [
    {
     "name": "stdout",
     "output_type": "stream",
     "text": [
      "Hello\n"
     ]
    }
   ],
   "source": [
    "ok = \"Hello\"\n",
    "z = eval(\"ok\")\n",
    "print(z)"
   ]
  },
  {
   "cell_type": "markdown",
   "metadata": {},
   "source": [
    "## 1-4 表达式和语句\n",
    "- 表达式expression是值、变量和操作符的组合。\n",
    "- 语句statement是一段产生效果的代码单元，用来指示解释器做一些事情。"
   ]
  },
  {
   "cell_type": "code",
   "execution_count": null,
   "metadata": {},
   "outputs": [],
   "source": [
    "#下面哪一行是语句？哪一行是表达式？\n",
    "42\n",
    "n\n",
    "n+25\n",
    "m = 2\n",
    "print(m)"
   ]
  },
  {
   "cell_type": "markdown",
   "metadata": {},
   "source": [
    "## 1-5 算数运算操作符\n",
    "\n",
    "- \\+ - * / **  \n",
    "- //（整数商） %（求模，余数） \n",
    "- 当一个表达式中出现多个操作符时，求值的顺序依赖于优先级规则，遵守数学的传统规则。"
   ]
  },
  {
   "cell_type": "code",
   "execution_count": null,
   "metadata": {},
   "outputs": [],
   "source": [
    "%%nbtutor -r -f\n",
    "pi = 3                  \n",
    "radius = 11            \n",
    "area = pi * (radius**2)\n",
    "radius = 14"
   ]
  },
  {
   "cell_type": "code",
   "execution_count": null,
   "metadata": {},
   "outputs": [],
   "source": [
    "# 常见错误： 省略操作符\n",
    "x=2\n",
    "y=3\n",
    "z=xy"
   ]
  },
  {
   "cell_type": "code",
   "execution_count": null,
   "metadata": {},
   "outputs": [],
   "source": [
    "%%nbtutor -r -f\n",
    "#多重赋值，赋值语句右侧的每个表达式先进行求值，然后分别与左侧的变量名绑定\n",
    "x,y = 2,3  \n",
    "print(\"x=\",x,\"y=\",y)\n",
    "\n",
    "#可以用来交换两个变量的绑定\n",
    "x,y = y,x\n",
    "print(\"x=\",x,\"y=\",y)"
   ]
  },
  {
   "cell_type": "code",
   "execution_count": null,
   "metadata": {},
   "outputs": [],
   "source": [
    "# 增量赋值\n",
    "x1+=-1\n",
    "x1 += -1\n",
    "x1 = x1+(-1)\n",
    "x1 = x1 - 1\n",
    "x1 -= 1"
   ]
  },
  {
   "cell_type": "markdown",
   "metadata": {},
   "source": [
    "### 试一试"
   ]
  },
  {
   "cell_type": "code",
   "execution_count": null,
   "metadata": {},
   "outputs": [],
   "source": [
    "#一年有几周？\n",
    "day = 365\n",
    "week = \n",
    "print(\"week\",week)\n"
   ]
  },
  {
   "cell_type": "code",
   "execution_count": null,
   "metadata": {},
   "outputs": [],
   "source": [
    "#将一个三位数逆向输出\n",
    "number = int(input(\"输入一个三位数： \"))\n",
    "number_inverse = \n",
    "print(number_inverse)\n"
   ]
  },
  {
   "cell_type": "markdown",
   "metadata": {},
   "source": [
    "## 1-6 输入输出\n",
    "\n",
    "### input函数可以接受用户输入\n",
    "    使用字符串为参数，字符串的内容作为提示信息，然后等待用户输入（学考要求：友好性！！！！！）\n",
    "    用户输入以回车结束\n",
    "    input函数返回一个字符串！！！！！\n",
    "### print函数可以输出\n",
    "    当print函数有多个参数时（用，隔开），会在每个参数对应的值之间加一个空格"
   ]
  },
  {
   "cell_type": "code",
   "execution_count": null,
   "metadata": {},
   "outputs": [],
   "source": [
    "a= int(input(\"请输入第一个数字a： \"))\n",
    "b= int(input(\"请输入第二个数字b： \"))\n",
    "c = a+b\n",
    "print(c)\n",
    "print(\"c: \",c)"
   ]
  }
 ],
 "metadata": {
  "celltoolbar": "Visualize",
  "kernelspec": {
   "display_name": "Python 3",
   "language": "python",
   "name": "python3"
  },
  "language_info": {
   "codemirror_mode": {
    "name": "ipython",
    "version": 3
   },
   "file_extension": ".py",
   "mimetype": "text/x-python",
   "name": "python",
   "nbconvert_exporter": "python",
   "pygments_lexer": "ipython3",
   "version": "3.7.9"
  },
  "toc-showtags": true
 },
 "nbformat": 4,
 "nbformat_minor": 4
}
