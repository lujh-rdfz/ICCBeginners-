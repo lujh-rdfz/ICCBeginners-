{
 "cells": [
  {
   "cell_type": "markdown",
   "metadata": {},
   "source": [
    "## ICC-S1-Python基础【卢婧华】-2-字符串"
   ]
  },
  {
   "cell_type": "markdown",
   "metadata": {},
   "source": [
    "## 复习：变量赋值、数据类型（转换）、算数运算、输入、输出"
   ]
  },
  {
   "cell_type": "code",
   "execution_count": 1,
   "metadata": {},
   "outputs": [
    {
     "name": "stdout",
     "output_type": "stream",
     "text": [
      "请输入圆半径： 3\n",
      "该圆的面积为 28.26\n"
     ]
    }
   ],
   "source": [
    "# 运行程序，并改正下列求圆面积的代码的错误\n",
    "radius = eval(input(\"请输入圆半径： \"))\n",
    "pi = 3.14\n",
    "area = pi*radius**2\n",
    "area = round(area,2)\n",
    "print(\"该圆的面积为\",area)"
   ]
  },
  {
   "cell_type": "code",
   "execution_count": null,
   "metadata": {},
   "outputs": [],
   "source": [
    "# 补充下列代码，将输入的三位整数逆序输出\n",
    "number = int(input(\"请输入一个三位正整数： \"))\n",
    "n1 = number%10\n",
    "n2 = number%100//10\n",
    "n2 = number//10%10\n",
    "n3 = number//100\n",
    "print(n1,n2,n3)\n",
    "number_inverse = str(n1)+str(n2)+str(n3)\n",
    "print(number_inverse)\n"
   ]
  },
  {
   "cell_type": "code",
   "execution_count": null,
   "metadata": {},
   "outputs": [],
   "source": [
    "number = input(\"请输入一个三位正整数： \")\n",
    "number_inverse1 = number[::-1]\n",
    "number_inverse2 = number[2]+number[1]+number[0]\n",
    "print(number_inverse1,number_inverse1)"
   ]
  },
  {
   "cell_type": "markdown",
   "metadata": {},
   "source": [
    "## 2-1数据类型：字符串\n",
    "以单引号/双引号开始和结束   \n",
    "换行\n"
   ]
  },
  {
   "cell_type": "code",
   "execution_count": null,
   "metadata": {},
   "outputs": [],
   "source": [
    "print(\"That is Alice's cat.\")\n"
   ]
  },
  {
   "cell_type": "code",
   "execution_count": null,
   "metadata": {},
   "outputs": [],
   "source": [
    "print(\"\"Hello\",said Tom.\")"
   ]
  },
  {
   "cell_type": "code",
   "execution_count": null,
   "metadata": {},
   "outputs": [],
   "source": [
    "print(\"That is Alice's cat.\")\n",
    "print('\"Hello\",said Tom.')"
   ]
  },
  {
   "cell_type": "markdown",
   "metadata": {},
   "source": [
    "## 2-2 转义字符 \\"
   ]
  },
  {
   "cell_type": "code",
   "execution_count": null,
   "metadata": {},
   "outputs": [],
   "source": [
    "print('That is Alice\\'s cat.','a','v',\n",
    "     'c')\n",
    "print(\"\\\"Hello\\\",said Tom.\")"
   ]
  },
  {
   "cell_type": "markdown",
   "metadata": {},
   "source": [
    "- \\\\' 打印单引号\n",
    "- \\\\\" 打印双引号\n",
    "- \\\\\\ 打印反斜杠\n",
    "\n",
    "- \\n 换行\n"
   ]
  },
  {
   "cell_type": "code",
   "execution_count": null,
   "metadata": {},
   "outputs": [],
   "source": [
    "print(\"Hello!\\tHow are you?\\nI\\'m fine.\")"
   ]
  },
  {
   "cell_type": "code",
   "execution_count": null,
   "metadata": {
    "scrolled": true
   },
   "outputs": [],
   "source": [
    "#三重引号与多行字符串\n",
    "print('''Hello!\n",
    "How are you?\n",
    "I'm fine.''')"
   ]
  },
  {
   "cell_type": "code",
   "execution_count": null,
   "metadata": {},
   "outputs": [],
   "source": [
    "# 这是一行注释\n",
    "'''这是一段多行注释\n",
    "用于注释比较多的内容\n",
    "作者： Lujh'''\n",
    "print(1)\n",
    "print()\n",
    "print(2)"
   ]
  },
  {
   "cell_type": "markdown",
   "metadata": {},
   "source": [
    "## 2-3 字符串的'运算'"
   ]
  },
  {
   "cell_type": "code",
   "execution_count": null,
   "metadata": {},
   "outputs": [],
   "source": [
    "#字符串不能进行运算操作，但有两个例外 + *\n",
    "word1 = 'happy'\n",
    "word2 = 'birthday'\n",
    "# 字符串拼接\n",
    "sentence = word1+' '+word2+'\\n'\n",
    "# 字符串重复，另一个操作对象必须是整数\n",
    "double = sentence*2\n",
    "print(sentence,end='*****')\n",
    "print(double)"
   ]
  },
  {
   "cell_type": "code",
   "execution_count": null,
   "metadata": {},
   "outputs": [],
   "source": [
    "forth = word1*word1"
   ]
  },
  {
   "cell_type": "code",
   "execution_count": null,
   "metadata": {},
   "outputs": [],
   "source": [
    "sentence = word1+' '+word2+' to you!\\n'\n",
    "lyric = sentence*4\n",
    "print(lyric)"
   ]
  },
  {
   "cell_type": "markdown",
   "metadata": {},
   "source": [
    "## 2-4 字符串下标\n",
    "- 字符串是一个字符的序列,序列中的每个字符都是一项\n",
    "- 可以用方括号访问符[ ]来访问字符串中单独的字符\n",
    "- [index]中的index是下标，代表字符在字符串中的位置\n",
    "-- 正序：从0开始，向后\n",
    "-- 逆序：从-1开始，向前"
   ]
  },
  {
   "cell_type": "code",
   "execution_count": null,
   "metadata": {},
   "outputs": [],
   "source": [
    "fruit = \"banana\"\n",
    "begin = fruit[0]\n",
    "end1 = fruit[5]\n",
    "end2 = fruit[-1]\n",
    "print(begin, end1,end2)"
   ]
  },
  {
   "cell_type": "markdown",
   "metadata": {},
   "source": [
    "## 2-5字符串切片\n",
    "切片,字符串中的一段称为一个切片slice  \n",
    "操作符[m:n]从第m个字符开始到第n个字符结束，包含第m个字符，但不包括第n个字符  \n",
    "- 省略第一个下标m，切片会从头开始\n",
    "- 省略第二个下标n，切片会继续到字符串的结尾   \n",
    "\n",
    "操作符[m:n:s]\n",
    "- 第三个下标表示步长，及相邻字符之间的距离"
   ]
  },
  {
   "cell_type": "code",
   "execution_count": null,
   "metadata": {},
   "outputs": [],
   "source": [
    "print(fruit[1:5])\n",
    "print(fruit[1:])\n",
    "print(fruit[:5])"
   ]
  },
  {
   "cell_type": "markdown",
   "metadata": {},
   "source": [
    "如果m>=n,返回空字符串"
   ]
  },
  {
   "cell_type": "code",
   "execution_count": null,
   "metadata": {},
   "outputs": [],
   "source": [
    "print(fruit[2:1])\n",
    "print(fruit[1:-1])\n",
    "print(fruit[:-1])\n"
   ]
  },
  {
   "cell_type": "code",
   "execution_count": null,
   "metadata": {},
   "outputs": [],
   "source": [
    "print(fruit[:])\n",
    "print(fruit[::])\n",
    "print(fruit[::2])\n",
    "print(fruit[::-1])"
   ]
  },
  {
   "cell_type": "markdown",
   "metadata": {},
   "source": [
    "## 2-6 字符串的长度\n",
    "内置函数len()，返回字符串中字符的个数"
   ]
  },
  {
   "cell_type": "code",
   "execution_count": null,
   "metadata": {},
   "outputs": [],
   "source": [
    "length = len(fruit)\n",
    "print(length)"
   ]
  },
  {
   "cell_type": "code",
   "execution_count": null,
   "metadata": {},
   "outputs": [],
   "source": [
    "print(fruit[len(fruit)-1])"
   ]
  },
  {
   "cell_type": "code",
   "execution_count": null,
   "metadata": {},
   "outputs": [],
   "source": [
    "print(fruit[1:len(fruit)])"
   ]
  },
  {
   "cell_type": "markdown",
   "metadata": {},
   "source": [
    "## 2-7 字符串的方法\n",
    "字符串提供了很多完成各种操作的有用的方法    \n",
    "这些方法只对字符串这种数据类型有效  \n",
    "使用“方法”method和“函数”function类似，但语法不同  \n",
    "句点表示法：   \n",
    "    方法应用到的字符串.方法的名称(<可能有参数>)"
   ]
  },
  {
   "cell_type": "code",
   "execution_count": null,
   "metadata": {},
   "outputs": [],
   "source": [
    "new_fruit = fruit.upper()\n",
    "print(new_fruit)\n",
    "print(\"tll\".upper())"
   ]
  },
  {
   "cell_type": "code",
   "execution_count": null,
   "metadata": {},
   "outputs": [],
   "source": [
    "'alice'.upper()"
   ]
  },
  {
   "cell_type": "code",
   "execution_count": null,
   "metadata": {},
   "outputs": [],
   "source": [
    "#返回字符在串里第一次出现的位置\n",
    "index = fruit.find('s')\n",
    "print(index)"
   ]
  },
  {
   "cell_type": "code",
   "execution_count": null,
   "metadata": {},
   "outputs": [],
   "source": [
    "names = \"Adam Bob Cathy\"\n",
    "name_list = names.split()\n",
    "print(name_list)"
   ]
  },
  {
   "cell_type": "markdown",
   "metadata": {},
   "source": [
    "## 作业：\n",
    "1\\编写程序输入你的完整邮箱,截取@之前的用户名   \n",
    "输出欢迎消息   \n",
    "样例：   \n",
    "输入 lujh@rdfz.cn   \n",
    "输出 Welcome back, LUJH   \n",
    "\n",
    "2\\输入身份证号，输出年龄"
   ]
  },
  {
   "cell_type": "code",
   "execution_count": null,
   "metadata": {},
   "outputs": [],
   "source": [
    "id_card = input(\"身份证号\")\n",
    "birthyear = int(id_card[6:10])\n",
    "thisyear = 2020\n",
    "print(birthyear)\n",
    "age = thisyear-birthyear\n",
    "print(\"您今年\",age,\"岁!\")\n"
   ]
  },
  {
   "cell_type": "code",
   "execution_count": 1,
   "metadata": {},
   "outputs": [
    {
     "name": "stdout",
     "output_type": "stream",
     "text": [
      "请输入邮箱地址lujh@rdfz.cn\n",
      "Welcome back,LUJH\n"
     ]
    }
   ],
   "source": [
    "mail_address= input(\"请输入邮箱地址\")\n",
    "index = mail_address.find(\"@\")\n",
    "account = mail_address[:index]\n",
    "print(\"Welcome back,\",account.upper())"
   ]
  },
  {
   "cell_type": "markdown",
   "metadata": {},
   "source": [
    "## 2-8 字符串的比较\n"
   ]
  },
  {
   "cell_type": "markdown",
   "metadata": {},
   "source": [
    "## C2在此 C7"
   ]
  },
  {
   "cell_type": "markdown",
   "metadata": {},
   "source": [
    "\n",
    "## 比较运算符\n",
    "- ==（等于)\n",
    "- !=（不等于）\n",
    "- \\>（大于）\n",
    "- \\<（小于）\n",
    "- \\>=（大于等于）\n",
    "- <=（小于等于）"
   ]
  },
  {
   "cell_type": "code",
   "execution_count": 2,
   "metadata": {},
   "outputs": [
    {
     "data": {
      "text/plain": [
       "True"
      ]
     },
     "execution_count": 2,
     "metadata": {},
     "output_type": "execute_result"
    }
   ],
   "source": [
    "\"a\"<\"b\""
   ]
  },
  {
   "cell_type": "code",
   "execution_count": 3,
   "metadata": {},
   "outputs": [
    {
     "data": {
      "text/plain": [
       "True"
      ]
     },
     "execution_count": 3,
     "metadata": {},
     "output_type": "execute_result"
    }
   ],
   "source": [
    "\"Bob\"<\"bob\""
   ]
  },
  {
   "cell_type": "code",
   "execution_count": 2,
   "metadata": {},
   "outputs": [
    {
     "data": {
      "text/plain": [
       "False"
      ]
     },
     "execution_count": 2,
     "metadata": {},
     "output_type": "execute_result"
    }
   ],
   "source": [
    "1=='1'"
   ]
  },
  {
   "cell_type": "code",
   "execution_count": 5,
   "metadata": {},
   "outputs": [
    {
     "data": {
      "text/plain": [
       "True"
      ]
     },
     "execution_count": 5,
     "metadata": {},
     "output_type": "execute_result"
    }
   ],
   "source": [
    "\"1\"<\"10\""
   ]
  },
  {
   "cell_type": "code",
   "execution_count": 6,
   "metadata": {},
   "outputs": [
    {
     "data": {
      "text/plain": [
       "True"
      ]
     },
     "execution_count": 6,
     "metadata": {},
     "output_type": "execute_result"
    }
   ],
   "source": [
    "\"101\"<\"11\""
   ]
  },
  {
   "cell_type": "code",
   "execution_count": 7,
   "metadata": {},
   "outputs": [
    {
     "data": {
      "text/plain": [
       "True"
      ]
     },
     "execution_count": 7,
     "metadata": {},
     "output_type": "execute_result"
    }
   ],
   "source": [
    "\"杨\">\"刘\""
   ]
  },
  {
   "cell_type": "markdown",
   "metadata": {},
   "source": [
    "字符串比较大小时，逐一比较每个字符的ASCII码大小"
   ]
  },
  {
   "cell_type": "markdown",
   "metadata": {},
   "source": [
    "![ASCII TABLE](http://brianaspinall.com/wp-content/uploads/2015/11/better_ascii_table.jpg)"
   ]
  }
 ],
 "metadata": {
  "kernelspec": {
   "display_name": "Python 3",
   "language": "python",
   "name": "python3"
  },
  "language_info": {
   "codemirror_mode": {
    "name": "ipython",
    "version": 3
   },
   "file_extension": ".py",
   "mimetype": "text/x-python",
   "name": "python",
   "nbconvert_exporter": "python",
   "pygments_lexer": "ipython3",
   "version": "3.7.9"
  }
 },
 "nbformat": 4,
 "nbformat_minor": 4
}
