{
 "cells": [
  {
   "cell_type": "markdown",
   "metadata": {},
   "source": [
    "# ICC-S1-Python基础【卢婧华】\n",
    "# 3 逻辑与分支\n",
    "## 3-1数据类型bool与布尔表达式\n",
    "True和False是bool数据类型的两个特殊值。    \n",
    "布尔表达式是值为True或False的表达式。"
   ]
  },
  {
   "cell_type": "code",
   "execution_count": null,
   "metadata": {},
   "outputs": [],
   "source": [
    "type(True)"
   ]
  },
  {
   "cell_type": "code",
   "execution_count": null,
   "metadata": {},
   "outputs": [],
   "source": [
    "type(true)"
   ]
  },
  {
   "cell_type": "code",
   "execution_count": null,
   "metadata": {},
   "outputs": [],
   "source": [
    "5==5"
   ]
  },
  {
   "cell_type": "code",
   "execution_count": null,
   "metadata": {},
   "outputs": [],
   "source": [
    "5==6"
   ]
  },
  {
   "cell_type": "markdown",
   "metadata": {},
   "source": [
    "\n",
    "### 3-1-1 比较运算符\n",
    "- ==（等于) !!!一定不要和赋值符号 = 混淆!!!\n",
    "- !=（不等于）\n",
    "- \\>（大于）\n",
    "- \\<（小于）\n",
    "- \\>=（大于等于）\n",
    "- <=（小于等于）"
   ]
  },
  {
   "cell_type": "markdown",
   "metadata": {},
   "source": [
    "### 3-1-2 布尔操作符\n",
    "in\n",
    "如果第一个字符串是第二个的子串，返回True"
   ]
  },
  {
   "cell_type": "code",
   "execution_count": null,
   "metadata": {},
   "outputs": [],
   "source": [
    "'a' in 'apple'"
   ]
  },
  {
   "cell_type": "code",
   "execution_count": null,
   "metadata": {},
   "outputs": [],
   "source": [
    "'b' in 'apple'"
   ]
  },
  {
   "cell_type": "code",
   "execution_count": null,
   "metadata": {},
   "outputs": [],
   "source": [
    "'apple' in 'apple is not iphone'"
   ]
  },
  {
   "cell_type": "code",
   "execution_count": null,
   "metadata": {},
   "outputs": [],
   "source": [
    "'pp' in 'apple'"
   ]
  },
  {
   "cell_type": "markdown",
   "metadata": {},
   "source": [
    "### 3-1-3 逻辑运算符\n",
    "- a and b：当a和b都为True时，值为True，否则为False。\n",
    "- a or b： 当a和b至少有一个为True时，值为True，否则为False。\n",
    "- not a：  如果a为False，值为True；如果a为True，值为False。    "
   ]
  },
  {
   "cell_type": "code",
   "execution_count": null,
   "metadata": {},
   "outputs": [],
   "source": [
    "score = 90\n",
    "score >85 and score <95 "
   ]
  },
  {
   "cell_type": "code",
   "execution_count": null,
   "metadata": {},
   "outputs": [],
   "source": [
    "score = 80\n",
    "score >85 and score <95 "
   ]
  },
  {
   "cell_type": "code",
   "execution_count": null,
   "metadata": {},
   "outputs": [],
   "source": [
    "score = 80\n",
    "score >85 or score <95 "
   ]
  },
  {
   "cell_type": "markdown",
   "metadata": {},
   "source": [
    "对同一个变量做多个and比较操作，可以如下"
   ]
  },
  {
   "cell_type": "code",
   "execution_count": null,
   "metadata": {},
   "outputs": [],
   "source": [
    "85<score<95"
   ]
  },
  {
   "cell_type": "markdown",
   "metadata": {},
   "source": [
    "在Python里，任何非0/非空都被解释为True"
   ]
  },
  {
   "cell_type": "code",
   "execution_count": null,
   "metadata": {},
   "outputs": [],
   "source": [
    "not score"
   ]
  },
  {
   "cell_type": "code",
   "execution_count": null,
   "metadata": {},
   "outputs": [],
   "source": [
    "not ''"
   ]
  },
  {
   "cell_type": "markdown",
   "metadata": {},
   "source": [
    "# 3-2 分支\n",
    "检查条件，并据此改变程序的行为"
   ]
  },
  {
   "cell_type": "markdown",
   "metadata": {},
   "source": [
    "### 3-2-1 条件执行  if Statement\n",
    "测试条件语句是True或False. \n",
    "如果是True，则执行缩进的语句;否则，什么都不会发生。"
   ]
  },
  {
   "cell_type": "code",
   "execution_count": null,
   "metadata": {},
   "outputs": [],
   "source": [
    "'''\n",
    "语法\n",
    "if Logical_Expression :    \n",
    "   Indented Code Block\n",
    "'''\n"
   ]
  },
  {
   "cell_type": "markdown",
   "metadata": {},
   "source": [
    "\n",
    "注意：\n",
    "注意缩进（四个space/一个Tab，但是不要混用space和tab）\n",
    "缩进决定了代码的结构"
   ]
  },
  {
   "cell_type": "markdown",
   "metadata": {},
   "source": [
    "![if](https://cdn.techbeamers.com/wp-content/uploads/2018/08/Basic-Python-if-Statement-Flowchart.png)"
   ]
  },
  {
   "cell_type": "code",
   "execution_count": null,
   "metadata": {
    "scrolled": true
   },
   "outputs": [],
   "source": [
    "days = int(input(\"How many days in a leap year? \"))\n",
    "if days == 366:\n",
    "    print(\"You have cleared the test.\")\n",
    "print(\"Done!\")"
   ]
  },
  {
   "cell_type": "markdown",
   "metadata": {},
   "source": [
    "练一练"
   ]
  },
  {
   "cell_type": "code",
   "execution_count": null,
   "metadata": {
    "scrolled": true
   },
   "outputs": [],
   "source": [
    "x = int(input(\"Please input a number: \"))\n",
    "if x > 0:\n",
    "    print(x,\"is a positive number\")"
   ]
  },
  {
   "cell_type": "markdown",
   "metadata": {},
   "source": [
    "### 3-2-2 选择执行 if-else statement\n",
    "有两种可能，条件的值决定运行哪一段缩进语句。    \n",
    "这两段不同的语句称为分支branch,因为他们是程序执行流程中的两个支流。\n"
   ]
  },
  {
   "cell_type": "code",
   "execution_count": null,
   "metadata": {},
   "outputs": [],
   "source": [
    "'''\n",
    "if Logical_Expression :\n",
    "    Indented Code Block 1\n",
    "else :\n",
    "    Indented Code Block 2\n",
    "    '''"
   ]
  },
  {
   "cell_type": "markdown",
   "metadata": {},
   "source": [
    "![if-else](https://cdn.techbeamers.com/wp-content/uploads/2018/08/Python-If-Else-Statement-Flowchart.png)"
   ]
  },
  {
   "cell_type": "code",
   "execution_count": null,
   "metadata": {},
   "outputs": [],
   "source": [
    "x = int(input(\"Please input a number: \"))\n",
    "if x%2 == 0:\n",
    "    print(\"even number\")\n",
    "else:\n",
    "    print(\"odd number\")"
   ]
  },
  {
   "cell_type": "code",
   "execution_count": null,
   "metadata": {},
   "outputs": [],
   "source": [
    "days = int(input(\"How many days in a leap year? \"))\n",
    "if days == 366:\n",
    "    print(\"You have cleared the test.\")\n",
    "else:\n",
    "    print(\"You have failed the test.\")\n",
    "print(\"Done!\")"
   ]
  },
  {
   "cell_type": "markdown",
   "metadata": {},
   "source": [
    "### 3-2-3 条件链\n",
    "超过两种可能,需要更多的分支。    \n",
    "只有一个分支会运行。    \n",
    "elif语句的数量没有限制  \n",
    "else语句必须放在最后。    \n",
    "每个条件都按顺序检查，如果第一个是False，则会检查下一个，以此类推。    \n",
    "如果有一个条件为True，则运行相应的分支，而整个语句结束。    \n",
    "即使有多个条件为真，也只有第一个为真的分支会运行"
   ]
  },
  {
   "cell_type": "code",
   "execution_count": null,
   "metadata": {},
   "outputs": [],
   "source": [
    "'''\n",
    "if Logical_Expression_1 :\n",
    "    Indented Code Block 1\n",
    "elif Logical_Expression_2 :\n",
    "    Indented Code Block 2\n",
    "elif Logical_Expression_3 :\n",
    "    Indented Code Block 3\n",
    "...\n",
    "else :\n",
    "    Indented Code Block N\n",
    "'''"
   ]
  },
  {
   "cell_type": "markdown",
   "metadata": {},
   "source": [
    "![if-elif-else](https://cdn.techbeamers.com/wp-content/uploads/2018/08/Python-If-Elif-Else-Statement-Flowchart.png)"
   ]
  },
  {
   "cell_type": "code",
   "execution_count": null,
   "metadata": {},
   "outputs": [],
   "source": [
    "num = int(input(\"an integer: \"))\n",
    "if num>0:\n",
    "    print(num,'is positive')\n",
    "elif num <0:\n",
    "    print(num,'is negative')\n",
    "else:\n",
    "    print(num, 'is zero')"
   ]
  },
  {
   "cell_type": "code",
   "execution_count": null,
   "metadata": {},
   "outputs": [],
   "source": [
    "Day = input(\"What Day Is It?\").upper()\n",
    "if Day[0]=='M':\n",
    "    timetable = \"星期一\"\n",
    "elif Day[0] == 'T': \n",
    "    timetable = \"星期二\"\n",
    "elif Day[0]== 'W':\n",
    "    timetable = \"星期三\"\n",
    "elif Day[0] == 'T':\n",
    "    timetable = \"即使有多个条件为真，也只有第一个为真的分支会运行\"\n",
    "elif Day[0] == 'F':\n",
    "    timetable = \"星期五\"\n",
    "else:\n",
    "     timetable = \"周末\"\n",
    "print(timetable)"
   ]
  },
  {
   "cell_type": "markdown",
   "metadata": {},
   "source": [
    "### 3-2-4 嵌套条件 Nested If-Else\n",
    "条件判断可以再嵌套条件判断\n",
    "注意缩进！！！"
   ]
  },
  {
   "cell_type": "code",
   "execution_count": null,
   "metadata": {},
   "outputs": [],
   "source": [
    "'''\n",
    "if Logical_Expression_1 :\n",
    "    if Logical_Expression_1.1 :\n",
    "        if Logical_Expression_1.1.1 :\n",
    "            Indented Code Block 1.1.1\n",
    "        else\n",
    "            Indented Code Block\n",
    "    elif Logical_Expression_1.2 :\n",
    "        Indented Code Block 1.2\n",
    "    else :\n",
    "        Indented Code Block\n",
    "elif Logical_Expression_2 :\n",
    "    Indented Code Block 2\n",
    "elif Logical_Expression_3 :\n",
    "    Indented Code Block 3\n",
    "...\n",
    "else :\n",
    "    Indented Code Block\n",
    "'''"
   ]
  },
  {
   "cell_type": "markdown",
   "metadata": {},
   "source": [
    "![if-elif-else](https://cdn.techbeamers.com/wp-content/uploads/2018/08/Python-Nested-If-Else-Statement-Flowchart.png)"
   ]
  },
  {
   "cell_type": "code",
   "execution_count": null,
   "metadata": {},
   "outputs": [],
   "source": [
    "Day = input(\"What Day Is It?\").upper()\n",
    "if Day[0]=='M':\n",
    "    timetable = \"星期一\"\n",
    "elif Day[0] == 'T': \n",
    "    if Day[1] == 'U':\n",
    "        timetable = \"星期二\"\n",
    "elif Day[0]== 'W':\n",
    "    timetable = \"星期三\"\n",
    "elif Day[0] == 'T':\n",
    "    if Day[1] == 'H':\n",
    "        timetable = \"星期四，通过嵌套条件进一步判断，但是即使有多个条件为真（Day[0]=='T'），只有第一个为真的分支会运行！！\"\n",
    "elif Day[0] == 'F':\n",
    "    timetable = \"星期五\"\n",
    "else:\n",
    "     timetable = \"周末\"\n",
    "print(timetable)"
   ]
  },
  {
   "cell_type": "code",
   "execution_count": null,
   "metadata": {},
   "outputs": [],
   "source": [
    "Day = input(\"What Day Is It?\").upper()\n",
    "if Day[0]=='M':\n",
    "    timetable = \"星期一\"\n",
    "elif Day[0] == 'T': \n",
    "    if Day[1] == 'U':\n",
    "        timetable = \"星期二\"\n",
    "    if Day[1] == 'H':\n",
    "        timetable = \"星期四，通过嵌套条件进一步判断，进而做出选择\"\n",
    "elif Day[0]== 'W':\n",
    "    timetable = \"星期三\"\n",
    "elif Day[0] == 'F':\n",
    "    timetable = \"星期五\"\n",
    "else:\n",
    "     timetable = \"周末\"\n",
    "print(timetable)"
   ]
  },
  {
   "cell_type": "markdown",
   "metadata": {},
   "source": [
    "嵌套语句会随着嵌套层数增多而变得难以阅读，应该尽量避免。\n",
    "可以想一想怎么设置待检测的条件来避免嵌套？"
   ]
  },
  {
   "cell_type": "code",
   "execution_count": null,
   "metadata": {},
   "outputs": [],
   "source": [
    "Day = input(\"What Day Is It?\").upper()\n",
    "if Day[0]=='M':\n",
    "    timetable = \"星期一\"\n",
    "elif Day[0] == 'T' and Day[1] == 'E': \n",
    "    timetable = \"星期二\"\n",
    "elif Day[0]== 'W':\n",
    "    timetable = \"星期三\"\n",
    "elif Day[0] == 'T' and Day[1] == 'H':\n",
    "    timetable = \"星期四，通过逻辑运算综合判断，进而做出选择\"\n",
    "elif Day[0] == 'F':\n",
    "    timetable = \"星期五\"\n",
    "else:\n",
    "     timetable = \"周末\"\n",
    "print(timetable)"
   ]
  },
  {
   "cell_type": "code",
   "execution_count": null,
   "metadata": {},
   "outputs": [],
   "source": [
    "Day = input(\"What Day Is It?\").upper()\n",
    "if Day[:2]=='MO':\n",
    "    timetable = \"星期一\"\n",
    "elif Day[:2] == 'TU': \n",
    "    timetable = \"星期二\"\n",
    "elif Day[:2]== 'WE':\n",
    "    timetable = \"星期三\"\n",
    "elif Day[:2] == 'TH':\n",
    "    timetable = \"星期四，通过逻辑运算综合判断，进而做出选择\"\n",
    "elif Day[:2] == 'FR':\n",
    "    timetable = \"星期五\"\n",
    "else:\n",
    "     timetable = \"周末\"\n",
    "print(timetable)"
   ]
  },
  {
   "cell_type": "markdown",
   "metadata": {},
   "source": [
    "## 作业：\n",
    "1\\温度转换。\n",
    "输入带符号的温度值（摄氏度27.78C/华氏度82F），转换为另一种温度。\n",
    "转换算法如下：\n",
    "C = （F-32）/1.8\n",
    "F = C*1.8 +32\n",
    "\n",
    "2\\判断闰年的条件，闰年为年份能被4整除但不能被100整除的年份，或能被400整除的年份。"
   ]
  }
 ],
 "metadata": {
  "kernelspec": {
   "display_name": "Python 3",
   "language": "python",
   "name": "python3"
  },
  "language_info": {
   "codemirror_mode": {
    "name": "ipython",
    "version": 3
   },
   "file_extension": ".py",
   "mimetype": "text/x-python",
   "name": "python",
   "nbconvert_exporter": "python",
   "pygments_lexer": "ipython3",
   "version": "3.7.9"
  }
 },
 "nbformat": 4,
 "nbformat_minor": 4
}
